{
 "cells": [
  {
   "cell_type": "code",
   "execution_count": 1,
   "metadata": {},
   "outputs": [],
   "source": [
    "import tensorflow as tf\n",
    "\n",
    "def linear_layer(x):\n",
    "    return 3 * x + 2\n",
    "@tf.function\n",
    "def simple_nn(x):\n",
    "    return tf.nn.relu(linear_layer(x))\n",
    "\n",
    "def simple_function(x):\n",
    "    return 3*x\n"
   ]
  },
  {
   "cell_type": "code",
   "execution_count": null,
   "metadata": {},
   "outputs": [],
   "source": [
    "#internal look at the auto-generated code\n",
    "print(tf.autograph.to_code(simple_nn.python_function, experimental_optional_features = None))"
   ]
  },
  {
   "cell_type": "code",
   "execution_count": 9,
   "metadata": {},
   "outputs": [
    {
     "name": "stdout",
     "output_type": "stream",
     "text": [
      "graph_time:  0.14011310000000776\n",
      "auto_graph_time 0.08527909999997974\n"
     ]
    }
   ],
   "source": [
    "import timeit\n",
    "\n",
    "cell = tf.keras.layers.LSTMCell(100)\n",
    "\n",
    "@tf.function\n",
    "def fn(input, state):\n",
    "    return cell(input, state)\n",
    "\n",
    "input = tf.zeros([100, 100])\n",
    "state = [tf.zeros([100, 100])] * 2\n",
    "#warm up\n",
    "cell(input, state)\n",
    "fn(input, state)\n",
    "\n",
    "graph_time = timeit.timeit(lambda: cell(input, state), number = 100)\n",
    "auto_graph_time = timeit.timeit(lambda: fn(input, state), number = 100)\n",
    "print(\"graph_time: \", graph_time)\n",
    "print(\"auto_graph_time\", auto_graph_time)"
   ]
  }
 ],
 "metadata": {
  "kernelspec": {
   "display_name": "Python 3",
   "language": "python",
   "name": "python3"
  },
  "language_info": {
   "codemirror_mode": {
    "name": "ipython",
    "version": 3
   },
   "file_extension": ".py",
   "mimetype": "text/x-python",
   "name": "python",
   "nbconvert_exporter": "python",
   "pygments_lexer": "ipython3",
   "version": "3.7.7"
  }
 },
 "nbformat": 4,
 "nbformat_minor": 4
}
