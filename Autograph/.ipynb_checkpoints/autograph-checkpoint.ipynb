{
 "cells": [
  {
   "cell_type": "code",
   "execution_count": 1,
   "metadata": {},
   "outputs": [],
   "source": [
    "import tensorflow as tf\n",
    "\n",
    "def linear_layer(x):\n",
    "    return 3 * x + 2\n",
    "@tf.function\n",
    "def simple_nn(x):\n",
    "    return tf.nn.relu(linear_layer(x))\n",
    "\n",
    "def simple_function(x):\n",
    "    return 3*x\n"
   ]
  },
  {
   "cell_type": "code",
   "execution_count": null,
   "metadata": {},
   "outputs": [],
   "source": [
    "#internal look at the auto-generated code\n",
    "print(tf.autograph.to_code(simple_nn.python_function, experimental_optional_features = None))"
   ]
  }
 ],
 "metadata": {
  "kernelspec": {
   "display_name": "Python 3",
   "language": "python",
   "name": "python3"
  },
  "language_info": {
   "codemirror_mode": {
    "name": "ipython",
    "version": 3
   },
   "file_extension": ".py",
   "mimetype": "text/x-python",
   "name": "python",
   "nbconvert_exporter": "python",
   "pygments_lexer": "ipython3",
   "version": "3.7.7"
  }
 },
 "nbformat": 4,
 "nbformat_minor": 4
}
