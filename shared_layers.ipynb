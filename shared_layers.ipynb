{
 "cells": [
  {
   "cell_type": "code",
   "execution_count": null,
   "metadata": {},
   "outputs": [],
   "source": [
    "import tensorflow as tf\n",
    "\n",
    "def build_model():\n",
    "    #variable-length sequence of integers\n",
    "    text_input_a = tf.keras.Input(shape = (None,), dtype = 'int32')\n",
    "    \n",
    "    #variable-length sequence of integers\n",
    "    text_input_b = tf.keras.Input(shape = (None,), dtype = 'int32')\n",
    "    \n",
    "    #Embedding for 1000 unique words mapped to 128-dimensional vector\n",
    "    shared_embedding = tf.keras.layers.Embedding(1000, 128)\n",
    "    \n",
    "    #We reuse the same layer to encode both inputs\n",
    "    encoded_input_a = shared_embedding(text_input_a)\n",
    "    encoded_input_b = shared_embedding(text_input_b)\n",
    "    \n",
    "    #two logistic predictions at the end\n",
    "    prediction_a = tf.keras.layers.Dense(1, activation = 'sigmoid', name = 'prediction_a')(encoded_input_a)\n",
    "    prediction_b = tf.keras.layers.Dense(1, activation = 'sigmoid', name = 'prediction_b')(encoded_input_b)\n",
    "    \n",
    "    #2 inputs, 2 outputs\n",
    "    #in the middle - shared model\n",
    "    model = tf.keras.Model(inputs = [text_input_a, text_input_b], outputs = [prediction_a, prediction_b])\n",
    "    \n",
    "    tf.keras.utils.plot_model(model, to_file = 'shared_model.png')\n",
    "    \n",
    "build_model()\n"
   ]
  },
  {
   "cell_type": "code",
   "execution_count": null,
   "metadata": {},
   "outputs": [],
   "source": []
  }
 ],
 "metadata": {
  "kernelspec": {
   "display_name": "Python 3",
   "language": "python",
   "name": "python3"
  },
  "language_info": {
   "codemirror_mode": {
    "name": "ipython",
    "version": 3
   },
   "file_extension": ".py",
   "mimetype": "text/x-python",
   "name": "python",
   "nbconvert_exporter": "python",
   "pygments_lexer": "ipython3",
   "version": "3.7.7"
  }
 },
 "nbformat": 4,
 "nbformat_minor": 4
}
